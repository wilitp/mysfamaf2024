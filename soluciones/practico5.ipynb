{
 "cells": [
  {
   "cell_type": "code",
   "execution_count": null,
   "metadata": {},
   "outputs": [],
   "source": []
  },
  {
   "cell_type": "code",
   "execution_count": 22,
   "metadata": {},
   "outputs": [
    {
     "name": "stdout",
     "output_type": "stream",
     "text": [
      "3.686428156250003 0.5090733099005291\n"
     ]
    }
   ],
   "source": [
    "# 1\n",
    "\n",
    "# a)\n",
    "\n",
    "\"\"\"\n",
    "En papel busco la acumulada y luego la inversa de esta.\n",
    "\n",
    "Abajo la uso para generar valores de x a partir de generar u en (0,1)\n",
    "\"\"\"\n",
    "import math\n",
    "import lib\n",
    "import importlib\n",
    "importlib.reload(lib)\n",
    "\n",
    "def F_1(u):\n",
    "    if(u < 1/4):\n",
    "        return 2 + 2*math.sqrt(u)\n",
    "    else:\n",
    "        return 6 - 6 * math.sqrt((1-u) / 3)\n",
    "\n",
    "gen = lambda : lib.trans_inversa_con_funcion(F_1)\n",
    "\n",
    "esp, var = lib.sim_esp_var(gen, 10000)\n",
    "\n",
    "print(esp, var)\n"
   ]
  },
  {
   "cell_type": "code",
   "execution_count": 146,
   "metadata": {},
   "outputs": [
    {
     "name": "stdout",
     "output_type": "stream",
     "text": [
      "0.3996885514186911 0.11026654609240433\n"
     ]
    }
   ],
   "source": [
    "import math\n",
    "from random import random\n",
    "import lib\n",
    "from numpy.random import exponential\n",
    "\n",
    "import importlib\n",
    "\n",
    "importlib.reload(lib)\n",
    "# 4\n",
    "\n",
    "\"\"\"\n",
    "La idea es que la densidad de esta función está definida como una integral, que es una sumatoria de infinitos términos.\n",
    "\n",
    "Vemos que el término de la integral es x**y * exp(-y) y la variable cuantificada es y\n",
    "\n",
    "Por lo que podemos ver esto como una composición de variables \n",
    "\n",
    "X_y con función de probabilidad acumulada x**y\n",
    "\n",
    "Se puede ver la función de probabilidad acumulada de X como:\n",
    "\n",
    "F(x) = integral de 0 a inf de F_y(x) * e**(-y) dy\n",
    "\n",
    "e**(-y) se puede ver como la densidad de una exponencial con parámetro 1, por lo que vemos que \n",
    "\n",
    "integral de 0 a inf de e**(-y) dy = 1\n",
    "\"\"\"\n",
    "\n",
    "\n",
    "\n",
    "def exponencial(lamda):\n",
    "    U = random()\n",
    "    return -math.log(U)/lamda\n",
    "\n",
    "def ej4():\n",
    "    # Obtenemos el y para \"seleccionar\" que X_y vamos a simular\n",
    "    y = exponential()\n",
    "\n",
    "    u = random()\n",
    "\n",
    "    res = math.log(u) / math.log(y)\n",
    "\n",
    "    return u ** (1/y)\n",
    "\n",
    "esp, var = lib.sim_esp_var(ej4, 10_000)"
   ]
  },
  {
   "cell_type": "code",
   "execution_count": 160,
   "metadata": {},
   "outputs": [
    {
     "name": "stdout",
     "output_type": "stream",
     "text": [
      "3.958917240357719 7.928998464234141\n",
      "0.5494066264390196 0.27805596403651667\n"
     ]
    }
   ],
   "source": [
    "\n",
    "from typing import Callable, List\n",
    "import math\n",
    "from random import random\n",
    "import lib\n",
    "from numpy.random import exponential\n",
    "\n",
    "import importlib\n",
    "\n",
    "importlib.reload(lib)\n",
    "# 5\n",
    "\n",
    "# i)\n",
    "\n",
    "\n",
    "\n",
    "def ej5_a_i(sims: List[Callable[[], float]]):\n",
    "    return max(sim() for sim in sims)\n",
    "\n",
    "def ej5_a_ii(sims: List[Callable[[], float]]):\n",
    "    return min(sim() for sim in sims)\n",
    "\n",
    "esp, var = lib.sim_esp_var(lambda : ej5_a_i([lambda : exponential(1), lambda: exponential(2), lambda : exponential(3)]), 10_000)\n",
    "print(esp, var)\n",
    "\n",
    "esp, var = lib.sim_esp_var(lambda : ej5_a_ii([lambda : exponential(1), lambda: exponential(2), lambda : exponential(3)]), 10_000)\n",
    "print(esp, var)"
   ]
  },
  {
   "cell_type": "code",
   "execution_count": 179,
   "metadata": {},
   "outputs": [
    {
     "name": "stdout",
     "output_type": "stream",
     "text": [
      "0.8329308480697315 0.021915741279080803\n",
      "0.830327200844302 0.02602653820471834\n",
      "0.8330775315071889 0.01898987240663319\n"
     ]
    }
   ],
   "source": [
    "# 6\n",
    "\n",
    "from typing import Callable, List\n",
    "import math\n",
    "from random import random\n",
    "import lib\n",
    "from numpy.random import exponential\n",
    "\n",
    "import importlib\n",
    "\n",
    "importlib.reload(lib)\n",
    "\n",
    "def metodo1_maximos(n):\n",
    "    return max(random() for _ in range(n))\n",
    "\n",
    "    \n",
    "def metodo2_inversa(n):\n",
    "    return random() ** (1/n)\n",
    "\n",
    "def metodo3_rechazo(n):\n",
    "    return lib.rechazo(random, lambda x : n * x**(n-1), lambda x : 1, n)\n",
    "\n",
    "esp, var = lib.sim_esp_var(lambda : metodo1_maximos(5), 10_000)\n",
    "print(esp, var)\n",
    "\n",
    "esp, var = lib.sim_esp_var(lambda : metodo2_inversa(5), 10_000)\n",
    "print(esp, var)\n",
    "\n",
    "esp, var = lib.sim_esp_var(lambda : metodo3_rechazo(5), 10_000)\n",
    "print(esp, var)"
   ]
  },
  {
   "cell_type": "code",
   "execution_count": 246,
   "metadata": {},
   "outputs": [
    {
     "name": "stdout",
     "output_type": "stream",
     "text": [
      "1.7240225676587362 0.22194909755507153\n",
      "1.7201342362267944 0.24379346125566403\n"
     ]
    }
   ],
   "source": [
    "# 7\n",
    "from typing import Callable, List\n",
    "import math\n",
    "from random import random\n",
    "import lib\n",
    "from numpy.random import exponential, uniform\n",
    "\n",
    "import importlib\n",
    "\n",
    "importlib.reload(lib)\n",
    "\n",
    "def inversa():\n",
    "    u = random()\n",
    "\n",
    "    return math.e ** u\n",
    "\n",
    "def rechazo():\n",
    "    simy = lambda : 1 + random() * (math.e - 1)\n",
    "    f = lambda x : 1/x\n",
    "    g = lambda y : 1/(math.e - 1)\n",
    "    c = math.e - 1\n",
    "\n",
    "    return lib.rechazo(simy, f, g, c = c)\n",
    "\n",
    "\n",
    "\n",
    "esp, var = lib.sim_esp_var(inversa, 10_000)\n",
    "print(esp, var)\n",
    "esp, var = lib.sim_esp_var(rechazo, 10_000)\n",
    "print(esp, var)"
   ]
  },
  {
   "cell_type": "code",
   "execution_count": 259,
   "metadata": {},
   "outputs": [
    {
     "name": "stdout",
     "output_type": "stream",
     "text": [
      "1.0008718900395897 0.17189197608431672\n",
      "0.997528654231678 0.17953520119139987\n",
      "0.9951983192056114 0.18181838995949218\n",
      "0.1269\n"
     ]
    }
   ],
   "source": [
    "from typing import Callable, List\n",
    "import math\n",
    "from random import random\n",
    "import lib\n",
    "from numpy.random import exponential, uniform\n",
    "\n",
    "import importlib\n",
    "\n",
    "importlib.reload(lib)\n",
    "# busqué en google qué es densidad triangular y dice:\n",
    "\"\"\"\n",
    "En probabilidad y estadística, la distribución triangular es una familia de distribuciones continuas de probabilidad que tiene un valor mínimo a, un valor máximo b y una moda c, de modo que la función de densidad de probabilidad es cero para los extremos (a y b), y afín entre cada extremo y la moda, por lo que su gráfico es un triángulo.\n",
    "\"\"\"\n",
    "\n",
    "# a) si hacemos la convolucion podemos probar eso. Pero no me calienta mucho\n",
    "\n",
    "# b)\n",
    "\n",
    "def b_i():\n",
    "    return random() + random()\n",
    "\n",
    "def b_ii():\n",
    "    u = random()\n",
    "    if u >= 1/2:\n",
    "        return 2 - math.sqrt(2) * math.sqrt(1-u)\n",
    "    else:\n",
    "        return math.sqrt(2*u)\n",
    "def b_iii():\n",
    "    c = 2\n",
    "    def f(x):\n",
    "        if 0 <= x < 1: return x\n",
    "        elif 1<= x < 2: return 2 - x\n",
    "        else: return 0\n",
    "\n",
    "    def g(_):\n",
    "        return 1/2\n",
    "    \n",
    "    simy = lambda : random() * 2\n",
    "    \n",
    "    return lib.rechazo(simy, f, g, c = c)\n",
    "\n",
    "\n",
    "esp, var = lib.sim_esp_var(b_i, 10_000)\n",
    "print(esp, var)\n",
    "esp, var = lib.sim_esp_var(b_ii, 10_000)\n",
    "print(esp, var)\n",
    "esp, var = lib.sim_esp_var(b_iii, 10_000)\n",
    "print(esp, var)\n",
    "\n",
    "# c) es 1.5, se obtiene usando la inversa de F\n",
    "count = 0\n",
    "n = 10_000\n",
    "for _ in range(n):\n",
    "    x = b_iii()\n",
    "    count += int(x > 1.5)\n",
    "print(count / n) # da un nriquísimo ~ 0.125"
   ]
  }
 ],
 "metadata": {
  "kernelspec": {
   "display_name": "venv",
   "language": "python",
   "name": "python3"
  },
  "language_info": {
   "codemirror_mode": {
    "name": "ipython",
    "version": 3
   },
   "file_extension": ".py",
   "mimetype": "text/x-python",
   "name": "python",
   "nbconvert_exporter": "python",
   "pygments_lexer": "ipython3",
   "version": "3.10.12"
  }
 },
 "nbformat": 4,
 "nbformat_minor": 2
}
