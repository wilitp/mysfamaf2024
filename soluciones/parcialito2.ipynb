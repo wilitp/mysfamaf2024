{
 "cells": [
  {
   "cell_type": "code",
   "execution_count": 17,
   "metadata": {},
   "outputs": [
    {
     "name": "stdout",
     "output_type": "stream",
     "text": [
      "p1:  0.221625\n",
      "p2:  0.3252\n",
      "p3:  0.169325\n",
      "p4:  0.278525\n",
      "p100:  0.00015\n",
      "Esperanza de X^2:  8.5484\n",
      "Esperanza estimada de X^2:  8.822525\n"
     ]
    }
   ],
   "source": [
    "import random\n",
    "import lib\n",
    "def generarX():\n",
    "    U=random.random()\n",
    "    if U<0.22:\n",
    "        return 1\n",
    "    elif U<0.55:\n",
    "        return 2\n",
    "    elif U<0.72:\n",
    "        return 3\n",
    "    elif U<0.9999:\n",
    "        return 4\n",
    "    else:\n",
    "        return 100\n",
    "p1 = 0\n",
    "p2 = 0\n",
    "p3 = 0\n",
    "p4 = 0\n",
    "p100 = 0\n",
    "n = 40_000\n",
    "for _ in range(n):\n",
    "    p1 += int(generarX() == 1)\n",
    "    p2 += int(generarX() == 2)\n",
    "    p3 += int(generarX() == 3)\n",
    "    p4 += int(generarX() == 4)\n",
    "    p100 += int(generarX() == 100)\n",
    "\n",
    "print(\"p1: \", p1/n)\n",
    "print(\"p2: \", p2/n)\n",
    "print(\"p3: \", p3/n)\n",
    "print(\"p4: \", p4/n)\n",
    "print(\"p100: \", p100/n)\n",
    "\n",
    "px = [0.22, .33, .17, .2799, .0001]\n",
    "xs  = [1, 2, 3, 4, 100]\n",
    "\n",
    "esp2_sim, _ = lib.sim_esp_var(lambda : generarX()**2, n)\n",
    "esp2 = sum((xs[i]**2) * px[i] for i in range(0, len(xs)))\n",
    "\n",
    "print(\"Esperanza de X^2: \", esp2)\n",
    "print(\"Esperanza estimada de X^2: \", esp2_sim)"
   ]
  }
 ],
 "metadata": {
  "kernelspec": {
   "display_name": "venv",
   "language": "python",
   "name": "python3"
  },
  "language_info": {
   "codemirror_mode": {
    "name": "ipython",
    "version": 3
   },
   "file_extension": ".py",
   "mimetype": "text/x-python",
   "name": "python",
   "nbconvert_exporter": "python",
   "pygments_lexer": "ipython3",
   "version": "3.10.12"
  }
 },
 "nbformat": 4,
 "nbformat_minor": 2
}
