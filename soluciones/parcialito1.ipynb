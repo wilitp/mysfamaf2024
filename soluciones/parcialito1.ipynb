{
 "cells": [
  {
   "cell_type": "code",
   "execution_count": null,
   "metadata": {},
   "outputs": [],
   "source": []
  },
  {
   "cell_type": "code",
   "execution_count": 2,
   "metadata": {},
   "outputs": [
    {
     "name": "stdout",
     "output_type": "stream",
     "text": [
      "a\n",
      "3.5411573479485265e-09\n",
      "b\n",
      "0.9998375968280016\n"
     ]
    }
   ],
   "source": [
    "import math\n",
    "\n",
    "res = math.exp(-32) * ((32**5) / math.factorial(5))\n",
    "\n",
    "print(\"a\")\n",
    "print(res)\n",
    "\n",
    "p = 5 / 8\n",
    "\n",
    "res = sum([math.comb(12, i) * p**i * (1-p)**(12-i) for i in range(2, 13)])\n",
    "\n",
    "print(\"b\")\n",
    "print(res)"
   ]
  }
 ],
 "metadata": {
  "kernelspec": {
   "display_name": "Python 3",
   "language": "python",
   "name": "python3"
  },
  "language_info": {
   "codemirror_mode": {
    "name": "ipython",
    "version": 3
   },
   "file_extension": ".py",
   "mimetype": "text/x-python",
   "name": "python",
   "nbconvert_exporter": "python",
   "pygments_lexer": "ipython3",
   "version": "3.10.12"
  }
 },
 "nbformat": 4,
 "nbformat_minor": 2
}
