{
 "cells": [
  {
   "cell_type": "markdown",
   "metadata": {},
   "source": [
    "# Ejercicio 1"
   ]
  },
  {
   "cell_type": "code",
   "execution_count": 1,
   "metadata": {},
   "outputs": [],
   "source": [
    "from random import random, randint\n",
    "from math import log\n",
    "# 1\n",
    "\n",
    "def algo_x(p):\n",
    "    def simy():\n",
    "        return randint(0, 3)\n",
    "    \n",
    "    def px(i):\n",
    "        try:\n",
    "            return p[i]\n",
    "        except IndexError:\n",
    "            return 0\n",
    "\n",
    "    while True:\n",
    "        y = simy()\n",
    "        u = random()\n",
    "        if u < px(y) / (0.35):\n",
    "            return y\n",
    "\n",
    "# -- Codigo usado para verificar -------------------\n",
    "\n",
    "# def sim_esp_var(sim, n):\n",
    "#     esp  = sum(sim() for _ in range(0, n))/n\n",
    "#     esp2 = sum(sim()**2 for _ in range(0, n))/n\n",
    "\n",
    "#     var = esp2 - esp**2\n",
    "\n",
    "#     return esp, var\n",
    "\n",
    "# p = [0.13, .22, .35,.3]\n",
    "# esp, _ = sim_esp_var(lambda : algo_x(p), 10_000)\n",
    "\n",
    "# p0 = 0\n",
    "# p1 = 0\n",
    "# p2 = 0\n",
    "# p3 = 0\n",
    "# n = 10_000\n",
    "# for _ in range(10_000):\n",
    "#     y = algo_x(p)\n",
    "\n",
    "#     p0 += int(y == 0) / n\n",
    "#     p1 += int(y == 1) / n\n",
    "#     p2 += int(y == 2) / n\n",
    "#     p3 += int(y == 3) / n\n",
    "# print([p0, p1, p2, p3])\n",
    "\n"
   ]
  },
  {
   "cell_type": "markdown",
   "metadata": {},
   "source": [
    "# Ejercicio 2"
   ]
  },
  {
   "cell_type": "code",
   "execution_count": 2,
   "metadata": {},
   "outputs": [
    {
     "name": "stdout",
     "output_type": "stream",
     "text": [
      "Probabilidad estimada de X > 1 = 0.3466\n"
     ]
    }
   ],
   "source": [
    "\n",
    "# 2\n",
    "\n",
    "def F_1(u):\n",
    "    if 0 <= u < 2/3:\n",
    "        return (3/2 * u)**(2/3)\n",
    "    else:\n",
    "        return 3 * (u-1/3)\n",
    "\n",
    "def ejercicio2():\n",
    "    u = random()\n",
    "\n",
    "    return F_1(u)\n",
    "\n",
    "n = 10_000\n",
    "cgt1 = 0\n",
    "for _ in range(n):\n",
    "    cgt1 += int(ejercicio2() > 1)\n",
    "\n",
    "print(f\"Probabilidad estimada de X > 1 = {cgt1/n}\")"
   ]
  },
  {
   "cell_type": "markdown",
   "metadata": {},
   "source": [
    "# Ejercicio 3"
   ]
  },
  {
   "cell_type": "code",
   "execution_count": 3,
   "metadata": {},
   "outputs": [
    {
     "name": "stdout",
     "output_type": "stream",
     "text": [
      "Numero esperado estimado: 141.401\n"
     ]
    }
   ],
   "source": [
    "\n",
    "def eventosPoissonNoHomogeneoOptimizado(lamda, interv, lamda_t, T):\n",
    "    assert len(lamda) == len(interv)\n",
    "    j = 0 #recorre subintervalos.\n",
    "    t = -log ( 1 - random() ) / lamda[j]\n",
    "    eventos = []\n",
    "    while t <= T:\n",
    "        if t <= interv[j]:\n",
    "            V = random()\n",
    "            if V < lamda_t(t) / lamda[j]:\n",
    "                eventos.append(t)\n",
    "            t += -log(1 - random()) / lamda[j]\n",
    "        else: #t > interv[j]\n",
    "            t = interv[j] + (t - interv[j]) * lamda[j] / lamda[j + 1]\n",
    "            j = min(j + 1, len(interv)-1)\n",
    "    return len(eventos), eventos\n",
    "\n",
    "def hot_dog():\n",
    "    interv = [1, 2, 6, 8, 9]\n",
    "    T = 9\n",
    "    lamda = [10, 15, 20, 18, 14]\n",
    "\n",
    "    def lamda_t(t):\n",
    "        if 0 <= t < 3:\n",
    "            return 5 + 5 * t\n",
    "        elif 3 <= t <= 5:\n",
    "            return 20\n",
    "        elif 5 < t <= 9:\n",
    "            return 30-2*t\n",
    "\n",
    "    nt, _= eventosPoissonNoHomogeneoOptimizado(lamda, interv, lamda_t, T)\n",
    "\n",
    "    return nt\n",
    "\n",
    "def sim_esp_var(sim, n):\n",
    "    esp  = sum(sim() for _ in range(0, n))/n\n",
    "    esp2 = sum(sim()**2 for _ in range(0, n))/n\n",
    "\n",
    "    var = esp2 - esp**2\n",
    "\n",
    "    return esp, var\n",
    "esp, _ = sim_esp_var(hot_dog, 10_000)\n",
    "print(f\"Numero esperado estimado: {esp}\")"
   ]
  },
  {
   "cell_type": "markdown",
   "metadata": {},
   "source": [
    "# Ejercicio 4\n"
   ]
  },
  {
   "cell_type": "code",
   "execution_count": 4,
   "metadata": {},
   "outputs": [
    {
     "name": "stdout",
     "output_type": "stream",
     "text": [
      "El area estimada de la curva es 3.14334\n"
     ]
    }
   ],
   "source": [
    "from typing import List, Tuple\n",
    "import math\n",
    "from functools import reduce\n",
    "\n",
    "def montecarlo_multi(g, intervals: List[Tuple[float, float]], n: int):\n",
    "    \"\"\"\n",
    "    Calcula una integral múltiple\n",
    "    \"\"\"\n",
    "\n",
    "    assert g.__code__.co_argcount == len(intervals)\n",
    "\n",
    "    # obtener a partir de los x_i los u_i a partir de cambios de variable\n",
    "    # el cambio de variable depende de si los limites es a, b ambos finitos\n",
    "    # o si son a = 0 y b = infinito\n",
    "    def aux(): \n",
    "\n",
    "        factors = []\n",
    "        args = []\n",
    "\n",
    "        for a, b in intervals:\n",
    "            x = random()\n",
    "            u = (x * (b - a) + a) if b is not math.inf else 1/x - 1\n",
    "            p = (b - a) if b is not math.inf else 1/x**2\n",
    "            args.append(u)\n",
    "            factors.append(p)\n",
    "        \n",
    "        return [reversed(args), factors]\n",
    "\n",
    "    # generador de samples para obtener el promedio\n",
    "    def gen_func():\n",
    "        for _ in range(0, n):\n",
    "\n",
    "            args, prods = aux()\n",
    "\n",
    "            prod = reduce(lambda x, y : x*y, prods)\n",
    "\n",
    "            yield g(*args) * prod\n",
    "\n",
    "    gen = gen_func()\n",
    "\n",
    "    # devolver el promedio de la muestra generada\n",
    "    return (sum(gen))/n\n",
    "\n",
    "def g(x, y):\n",
    "    if x**2 + (y - abs(x)**(3/2))**2 <= 1:\n",
    "        return 1\n",
    "    else:\n",
    "        return 0\n",
    "def area(n):\n",
    "    return montecarlo_multi(g, [(-1.5, 1.5), (-1.5, 1.5)], n)\n",
    "\n",
    "print(f\"El area estimada de la curva es {round(area(100_000), 6)}\")"
   ]
  }
 ],
 "metadata": {
  "kernelspec": {
   "display_name": "venv",
   "language": "python",
   "name": "python3"
  },
  "language_info": {
   "codemirror_mode": {
    "name": "ipython",
    "version": 3
   },
   "file_extension": ".py",
   "mimetype": "text/x-python",
   "name": "python",
   "nbconvert_exporter": "python",
   "pygments_lexer": "ipython3",
   "version": "3.10.12"
  }
 },
 "nbformat": 4,
 "nbformat_minor": 2
}
