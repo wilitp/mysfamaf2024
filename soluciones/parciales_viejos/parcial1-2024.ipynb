{
 "cells": [
  {
   "cell_type": "code",
   "execution_count": 18,
   "metadata": {},
   "outputs": [
    {
     "name": "stdout",
     "output_type": "stream",
     "text": [
      "3.0619243582206544e-09\n"
     ]
    }
   ],
   "source": [
    "\n",
    "from functools import reduce\n",
    "import math\n",
    "from typing import List, Tuple\n",
    "from random import random\n",
    "\n",
    "\n",
    "def montecarlo_multi(g, intervals: List[Tuple[float, float]], n: int):\n",
    "    \"\"\"\n",
    "    Calcula una integral múltiple\n",
    "    \"\"\"\n",
    "\n",
    "    assert g.__code__.co_argcount == len(intervals)\n",
    "\n",
    "    # obtener a partir de los x_i los u_i a partir de cambios de variable\n",
    "    # el cambio de variable depende de si los limites es a, b ambos finitos\n",
    "    # o si son a = 0 y b = infinito\n",
    "    def aux(): \n",
    "\n",
    "        factors = []\n",
    "        args = []\n",
    "\n",
    "        for a, b in intervals:\n",
    "            x = random()\n",
    "            u = (x * (b - a) + a) if b is not math.inf else 1/x - 1\n",
    "            p = (b - a) if b is not math.inf else 1/x**2\n",
    "            args.append(u)\n",
    "            factors.append(p)\n",
    "        \n",
    "        return [reversed(args), factors]\n",
    "\n",
    "    # generador de samples para obtener el promedio\n",
    "    def gen_func():\n",
    "        for _ in range(0, n):\n",
    "\n",
    "            args, prods = aux()\n",
    "\n",
    "            prod = reduce(lambda x, y : x*y, prods)\n",
    "\n",
    "            yield g(*args) * prod\n",
    "\n",
    "    gen = gen_func()\n",
    "\n",
    "    # devolver el promedio de la muestra generada\n",
    "    return (sum(gen))/n\n",
    "\n",
    "def f(x):\n",
    "    return 1/(x**2 * math.log(x+1))\n",
    "\n",
    "def monte_carlo(n):\n",
    "    return montecarlo_multi(lambda y : 1/((1/y)**2 * math.log(1/y + 1)*y**2),[(0,1)], 1_000_000)\n",
    "\n",
    "print(monte_carlo(1000))\n",
    "print(monte_carlo(10_000))\n",
    "print(monte_carlo(100_000))\n",
    "print(monte_carlo(1000_000))\n"
   ]
  }
 ],
 "metadata": {
  "kernelspec": {
   "display_name": "Python 3",
   "language": "python",
   "name": "python3"
  },
  "language_info": {
   "codemirror_mode": {
    "name": "ipython",
    "version": 3
   },
   "file_extension": ".py",
   "mimetype": "text/x-python",
   "name": "python",
   "nbconvert_exporter": "python",
   "pygments_lexer": "ipython3",
   "version": "3.10.12"
  }
 },
 "nbformat": 4,
 "nbformat_minor": 2
}
