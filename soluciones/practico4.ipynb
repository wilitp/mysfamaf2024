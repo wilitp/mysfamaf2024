{
 "cells": [
  {
   "cell_type": "code",
   "execution_count": null,
   "metadata": {},
   "outputs": [],
   "source": []
  },
  {
   "cell_type": "code",
   "execution_count": 6,
   "metadata": {},
   "outputs": [
    {
     "name": "stdout",
     "output_type": "stream",
     "text": [
      "1.7688443790827312e-22\n"
     ]
    }
   ],
   "source": [
    "import math\n",
    "from random import random\n",
    "from typing import Any, List\n",
    "from lib import *\n",
    "\n",
    "\n",
    "p = lambda r, n : (math.comb(n, r) * math.factorial(n -r - 1)) / math.factorial(n)\n",
    "\n",
    "print(p(10, 100) / math.comb(100, 10))"
   ]
  }
 ],
 "metadata": {
  "kernelspec": {
   "display_name": "Python 3",
   "language": "python",
   "name": "python3"
  },
  "language_info": {
   "codemirror_mode": {
    "name": "ipython",
    "version": 3
   },
   "file_extension": ".py",
   "mimetype": "text/x-python",
   "name": "python",
   "nbconvert_exporter": "python",
   "pygments_lexer": "ipython3",
   "version": "3.10.12"
  }
 },
 "nbformat": 4,
 "nbformat_minor": 2
}
