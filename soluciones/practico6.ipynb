{
 "cells": [
  {
   "cell_type": "code",
   "execution_count": 48,
   "metadata": {},
   "outputs": [
    {
     "name": "stdout",
     "output_type": "stream",
     "text": [
      "111\n",
      "-0.0655166238857105\n",
      "1.1023562439210208\n",
      "1.049931542492662\n"
     ]
    }
   ],
   "source": [
    "# 1\n",
    "\n",
    "import lib\n",
    "import importlib\n",
    "import math\n",
    "import random\n",
    "importlib.reload(lib)\n",
    "\n",
    "simx = lambda : random.normalvariate(0, 1)\n",
    "stats = lib.RecurrentStats()\n",
    "\n",
    "while stats.n <= 100 or math.sqrt(stats.get_var / stats.n) > 0.1:\n",
    "    stats.add(simx())\n",
    "\n",
    "\n",
    "\n",
    "print(stats.n)\n",
    "print(stats.get_mean)\n",
    "print(stats.get_var)\n",
    "print(math.sqrt(stats.get_var))\n",
    "\n",
    "\n"
   ]
  },
  {
   "cell_type": "code",
   "execution_count": 98,
   "metadata": {},
   "outputs": [
    {
     "name": "stdout",
     "output_type": "stream",
     "text": [
      "a\n",
      "i) 2.0795610174226904\n",
      "ii) 0.8887385388118403\n",
      "b\n",
      "i)  2.073377895501431\n",
      "ii) 0.893259762690186\n"
     ]
    }
   ],
   "source": [
    "# 2\n",
    "\n",
    "import lib\n",
    "import importlib\n",
    "import math\n",
    "import random\n",
    "importlib.reload(lib)\n",
    "\n",
    "# a)\n",
    "print(\"a\")\n",
    "# i\n",
    "\n",
    "\"\"\"\n",
    "Como esta integral es la esperanza E[(exp(x) / sqrt(2 * x))] con x ~ U(0,1)\n",
    "Podemos hacerla usando Montecarlo directamente\n",
    "\"\"\"\n",
    "gi = lambda x : (math.exp(x) / math.sqrt(2 * x))\n",
    "x = lib.montecarlo_multi(gi, [(0, 1)], 10_000)\n",
    "print(f\"i) {x}\")\n",
    "\n",
    "# ii\n",
    "\"\"\"\n",
    "A esta la separamos en dos: (-inf, 0) + (0, inf)\n",
    "Haciendo un cambio de variable sobre la parte negativa, nos quedan dos integrales:\n",
    "\n",
    "integral 0 a inf de f(x) dx + integral 0 a inf de f(-x) dx\n",
    "\n",
    "en el apunte vimos como aproximar funciones de 0 a infinito. Usamos esa técnica abajo\n",
    "\"\"\"\n",
    "gii = lambda x : x**2 * math.exp(-x**2)\n",
    "y = lib.montecarlo_multi(gii, [(0, math.inf)], 100_000) + lib.montecarlo_multi(lambda x : gii(-x), [(0, math.inf)], 100_000)\n",
    "\n",
    "\n",
    "print(f\"ii) {y}\")\n",
    "\n",
    "print(\"b\")\n",
    "\n",
    "# uso el metodo de montecarlo con n = 1, lo que me da una sola sample en vez de un promedio\n",
    "# abajo hago el promedio parando cuando llegamos a la cota\n",
    "simi = lambda : lib.montecarlo_multi(gi, [(0, 1)], 1)\n",
    "simii = lambda : lib.montecarlo_multi(gii, [(0, math.inf)], 1) + lib.montecarlo_multi(lambda x : gii(-x), [(0, math.inf)], 1)\n",
    "\n",
    "stats = lib.RecurrentStats()\n",
    "while stats.n <= 100 or math.sqrt(stats.get_var / stats.n) > 0.01:\n",
    "    stats.add(simi())\n",
    "print(\"i) \", stats.mean)\n",
    "\n",
    "stats = lib.RecurrentStats()\n",
    "while stats.n <= 100 or math.sqrt(stats.get_var / stats.n) > 0.01:\n",
    "    stats.add(simii())\n",
    "print(\"ii)\", stats.mean)\n",
    "\n"
   ]
  },
  {
   "cell_type": "code",
   "execution_count": 108,
   "metadata": {},
   "outputs": [
    {
     "name": "stdout",
     "output_type": "stream",
     "text": [
      "-0.43436454959897297\n",
      "169649\n",
      "1.4622045389862766\n",
      "3659704\n"
     ]
    }
   ],
   "source": [
    "# 3\n",
    "\n",
    "import lib\n",
    "import importlib\n",
    "import math\n",
    "import random\n",
    "importlib.reload(lib)\n",
    "\n",
    "\n",
    "gi  = lambda x : math.sin(x) / x\n",
    "\n",
    "simi  = lambda : lib.montecarlo_multi(gi, [(math.pi, 2*math.pi)], 1)\n",
    "stats = lib.RecurrentStats()\n",
    "zalpha_2 = 1.96 # alpha = 0.05\n",
    "L = 2 * 0.001\n",
    "d = L / (2 * zalpha_2)\n",
    "while stats.n <= 100 or math.sqrt(stats.get_var / stats.n) > d:\n",
    "    stats.add(simi())\n",
    "print(stats.get_mean)\n",
    "print(stats.n)\n",
    "\n",
    "gii = lambda x : 3 / (3 + x**4)\n",
    "simii = lambda : lib.montecarlo_multi(gii, [(0, math.inf)], 1)\n",
    "stats = lib.RecurrentStats()\n",
    "while (stats.n <= 100 or math.sqrt(stats.get_var / stats.n) > d):\n",
    "    stats.add(simii())\n",
    "print(stats.get_mean)\n",
    "print(stats.n)"
   ]
  },
  {
   "cell_type": "code",
   "execution_count": 6,
   "metadata": {},
   "outputs": [
    {
     "name": "stdout",
     "output_type": "stream",
     "text": [
      "b\n",
      "c\n",
      "2.726426928705825\n"
     ]
    }
   ],
   "source": [
    "import lib\n",
    "import importlib\n",
    "import math\n",
    "import random\n",
    "importlib.reload(lib)\n",
    "\n",
    "# 4\n",
    "\n",
    "print(\"b\")\n",
    "\n",
    "def simN():\n",
    "    n = 0\n",
    "    s = 0\n",
    "    while s <= 1:\n",
    "        s += random.random()\n",
    "        n += 1\n",
    "    return n\n",
    "\n",
    "# esp, var = lib.sim_esp_var(simN, 10_000)\n",
    "# print(esp, var)\n",
    "\n",
    "\n",
    "print(\"c\")\n",
    "stats = lib.RecurrentStats()\n",
    "zalpha_2 = 1.96 # alpha = 0.05\n",
    "L = 0.025\n",
    "d = L / (2 * zalpha_2)\n",
    "while stats.n <= 100 or math.sqrt(stats.get_var / stats.n) > d:\n",
    "    stats.add(simN())\n",
    "print(stats.get_mean)"
   ]
  },
  {
   "cell_type": "code",
   "execution_count": 1,
   "metadata": {},
   "outputs": [
    {
     "name": "stdout",
     "output_type": "stream",
     "text": [
      "c\n",
      "2.7425742574257432\n",
      "101\n",
      "d\n",
      "2.7576419213973806\n",
      "1374\n"
     ]
    }
   ],
   "source": [
    "import lib\n",
    "import importlib\n",
    "import math\n",
    "import random\n",
    "importlib.reload(lib)\n",
    "\n",
    "# 5\n",
    "\n",
    "def simM():\n",
    "    n = 1\n",
    "    u_1 = random.random()\n",
    "    \n",
    "    while True:\n",
    "        u_2 = random.random()\n",
    "        n += 1\n",
    "\n",
    "\n",
    "        if u_1 > u_2:\n",
    "            break\n",
    "        u_1 = u_2\n",
    "        u_2 = random.random()\n",
    "    return n\n",
    "\n",
    "\n",
    "print(\"c\")\n",
    "stats = lib.RecurrentStats()\n",
    "d = 0.01\n",
    "while stats.n <= 100 or (stats.get_var/stats.n) > d:\n",
    "    stats.add(simM())\n",
    "print(stats.get_mean)\n",
    "print(stats.n)\n",
    "\n",
    "print(\"d\")\n",
    "stats = lib.RecurrentStats()\n",
    "zalpha_2 = 1.96 # alpha = 0.05\n",
    "L = 0.1\n",
    "d = L / (2 * zalpha_2)\n",
    "while stats.n <= 100 or math.sqrt(stats.get_var/stats.n) > d:\n",
    "    stats.add(simM())\n",
    "print(stats.get_mean)\n",
    "print(stats.n)"
   ]
  },
  {
   "cell_type": "code",
   "execution_count": 143,
   "metadata": {},
   "outputs": [
    {
     "name": "stdout",
     "output_type": "stream",
     "text": [
      "a\n",
      "0.8113577023498683\n",
      "1532\n",
      "b\n",
      "0.7302631578947371\n",
      "304\n"
     ]
    }
   ],
   "source": [
    "\n",
    "import lib\n",
    "import importlib\n",
    "import math\n",
    "import random\n",
    "importlib.reload(lib)\n",
    "# 6\n",
    "\n",
    "def g():\n",
    "    x = 2 * random.random() - 1\n",
    "    y = 2 * random.random() - 1\n",
    "    return x**2 + y**2 <= 1\n",
    "\n",
    "stats = lib.RecurrentStats()\n",
    "\n",
    "while stats.n <= 100 or (stats.get_var/stats.n) > 0.0001:\n",
    "    stats.add(g())\n",
    "print(\"a\")\n",
    "print(stats.get_mean)\n",
    "print(stats.n)\n",
    "\n",
    "print(\"b\")\n",
    "L = 0.1\n",
    "zalpha_2 = 1.96\n",
    "d = L/(2 * zalpha_2)\n",
    "stats = lib.RecurrentStats()\n",
    "\n",
    "while stats.n <= 100 or math.sqrt(stats.get_var/stats.n) > d:\n",
    "    stats.add(g())\n",
    "print(stats.get_mean)\n",
    "print(stats.n)"
   ]
  },
  {
   "cell_type": "code",
   "execution_count": 148,
   "metadata": {},
   "outputs": [
    {
     "name": "stdout",
     "output_type": "stream",
     "text": [
      "[0. 0. 0.]\n",
      "[0.2461 0.2583 0.4956]\n"
     ]
    }
   ],
   "source": [
    "import numpy as np\n",
    "import lib\n",
    "import importlib\n",
    "import math\n",
    "import random\n",
    "importlib.reload(lib)\n",
    "# 7 \n",
    "\n",
    "# Distribucion teorica de Mendel \n",
    "# blanco, rojo, rosa\n",
    "# 0, 1, 2\n",
    "ps = [1/4, 1/4, 1/2]\n",
    "\n",
    "print(\"a\")\n",
    "\n",
    "# Calculamos el estadistico T\n",
    "# e 141 produjeron flores blancas, 291 flores rosas y 132 flores rojas\n",
    "Ns = [141, 132, 291]\n",
    "# get_estadistico_prueba\n",
    "T = ((N - len(Ns)*ps[i])**2 / len(Ns)*ps[i] for (i, N) in enumerate(Ns))\n",
    "\n",
    "\n",
    "\n",
    "\n",
    "def p(n): \n",
    "    try:\n",
    "        return ps[n]\n",
    "    except:\n",
    "        return 0\n",
    "\n",
    "sim_mendel = lambda : lib.trans_inversa_general_optimizada(p, [0, 1, 2])\n",
    "\n",
    "psim = np.zeros(3)\n",
    "\n",
    "n = 10_000\n",
    "\n",
    "for _ in range(n):\n",
    "    psim[sim_mendel()] += 1\n",
    "\n",
    "print(psim/n)\n",
    "\n",
    "\n"
   ]
  }
 ],
 "metadata": {
  "kernelspec": {
   "display_name": "venv",
   "language": "python",
   "name": "python3"
  },
  "language_info": {
   "codemirror_mode": {
    "name": "ipython",
    "version": 3
   },
   "file_extension": ".py",
   "mimetype": "text/x-python",
   "name": "python",
   "nbconvert_exporter": "python",
   "pygments_lexer": "ipython3",
   "version": "3.10.12"
  }
 },
 "nbformat": 4,
 "nbformat_minor": 2
}
