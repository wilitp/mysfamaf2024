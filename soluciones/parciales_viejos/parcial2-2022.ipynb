{
 "cells": [
  {
   "cell_type": "code",
   "execution_count": 54,
   "metadata": {},
   "outputs": [
    {
     "name": "stdout",
     "output_type": "stream",
     "text": [
      "-0.0013318093507282312 0.9751535916568328\n"
     ]
    }
   ],
   "source": [
    "from random import random\n",
    "\n",
    "import math\n",
    "\n",
    "def F_1(u):\n",
    "    if u < 1/3:\n",
    "        return math.log(3 * u)\n",
    "    else:\n",
    "        return - 1/2 * math.log(3/2 * u - 1/2)\n",
    "\n",
    "gen = lambda : trans_inversa_con_funcion(F_1)\n",
    "\n",
    "\n",
    "def trans_inversa_con_funcion(F_1):\n",
    "    u = random()\n",
    "    return F_1(u)\n",
    "\n",
    "def sim_esp_var(sim, n):\n",
    "    esp  = sum(sim() for _ in range(0, n))/n\n",
    "    esp2 = sum(sim()**2 for _ in range(0, n))/n\n",
    "\n",
    "    var = esp2 - esp**2\n",
    "\n",
    "    return esp, var\n",
    "\n",
    "esp, var = sim_esp_var(gen, 10_000)\n",
    "\n",
    "print(esp, var)\n",
    "\n"
   ]
  }
 ],
 "metadata": {
  "kernelspec": {
   "display_name": "venv",
   "language": "python",
   "name": "python3"
  },
  "language_info": {
   "codemirror_mode": {
    "name": "ipython",
    "version": 3
   },
   "file_extension": ".py",
   "mimetype": "text/x-python",
   "name": "python",
   "nbconvert_exporter": "python",
   "pygments_lexer": "ipython3",
   "version": "3.10.12"
  }
 },
 "nbformat": 4,
 "nbformat_minor": 2
}
